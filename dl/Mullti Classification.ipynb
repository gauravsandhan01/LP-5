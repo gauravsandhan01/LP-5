{
 "cells": [
  {
   "cell_type": "code",
   "execution_count": 8,
   "id": "7f1b344d-0a94-43b8-b712-26636fb5fa91",
   "metadata": {},
   "outputs": [],
   "source": [
    "import pandas as pd\n",
    "from sklearn.model_selection import train_test_split\n",
    "from sklearn.preprocessing import LabelEncoder, StandardScaler\n",
    "from tensorflow.keras.models import Sequential\n",
    "from tensorflow.keras.layers import Dense\n",
    "from tensorflow.keras.utils import to_categorical\n"
   ]
  },
  {
   "cell_type": "code",
   "execution_count": 12,
   "id": "be189ac5-e0b0-403c-b719-5e9cbc9be1cb",
   "metadata": {},
   "outputs": [],
   "source": [
    "df = pd.read_csv('https://archive.ics.uci.edu/ml/machine-learning-databases/letter-recognition/letter-recognition.data', names=['label'] + [f'f{i}' for i in range(1, 17)])\n",
    "\n"
   ]
  },
  {
   "cell_type": "code",
   "execution_count": 13,
   "id": "a9f45f89-11fd-4b1c-8cbf-010c1e345cfe",
   "metadata": {},
   "outputs": [],
   "source": [
    "x = df.drop('label', axis=1)  # Extract features (independent variables)\n",
    "y = df['label']  # Extract labels (target variable)\n",
    "features = StandardScaler().fit_transform(x)  # Scale features to mean=0 and std=1\n",
    "labels = to_categorical(LabelEncoder().fit_transform(y))"
   ]
  },
  {
   "cell_type": "code",
   "execution_count": 14,
   "id": "9461ee96-6846-44ff-ab28-8b701d6e460d",
   "metadata": {},
   "outputs": [],
   "source": [
    "x_train, x_test, y_train, y_test = train_test_split(features, labels, test_size=0.2)  # 80% train, 20% test\n"
   ]
  },
  {
   "cell_type": "code",
   "execution_count": 15,
   "id": "efef179c-b76a-4402-bdcd-fdb28decca9f",
   "metadata": {},
   "outputs": [
    {
     "name": "stderr",
     "output_type": "stream",
     "text": [
      "C:\\Users\\gaura\\AppData\\Local\\anaconda3\\Lib\\site-packages\\keras\\src\\layers\\core\\dense.py:87: UserWarning: Do not pass an `input_shape`/`input_dim` argument to a layer. When using Sequential models, prefer using an `Input(shape)` object as the first layer in the model instead.\n",
      "  super().__init__(activity_regularizer=activity_regularizer, **kwargs)\n"
     ]
    }
   ],
   "source": [
    "model = Sequential([\n",
    "    Dense(64, activation='relu', input_shape=(16,)),\n",
    "    Dense(26, activation='softmax')])\n"
   ]
  },
  {
   "cell_type": "code",
   "execution_count": 16,
   "id": "449d55cc-dd60-4a85-8795-7a9d9d3173f7",
   "metadata": {},
   "outputs": [],
   "source": [
    "model.compile(optimizer='adam',  # Optimizer: Adam\n",
    "              loss='categorical_crossentropy',  # Loss: categorical cross-entropy\n",
    "              metrics=['accuracy'])  # Metric: accuracy\n"
   ]
  },
  {
   "cell_type": "code",
   "execution_count": 17,
   "id": "ffbb6c82-43a6-40df-97f6-470ccf1b370d",
   "metadata": {},
   "outputs": [
    {
     "name": "stdout",
     "output_type": "stream",
     "text": [
      "Epoch 1/5\n",
      "\u001b[1m500/500\u001b[0m \u001b[32m━━━━━━━━━━━━━━━━━━━━\u001b[0m\u001b[37m\u001b[0m \u001b[1m3s\u001b[0m 2ms/step - accuracy: 0.2994 - loss: 2.6047\n",
      "Epoch 2/5\n",
      "\u001b[1m500/500\u001b[0m \u001b[32m━━━━━━━━━━━━━━━━━━━━\u001b[0m\u001b[37m\u001b[0m \u001b[1m1s\u001b[0m 2ms/step - accuracy: 0.7108 - loss: 1.0995\n",
      "Epoch 3/5\n",
      "\u001b[1m500/500\u001b[0m \u001b[32m━━━━━━━━━━━━━━━━━━━━\u001b[0m\u001b[37m\u001b[0m \u001b[1m1s\u001b[0m 2ms/step - accuracy: 0.7708 - loss: 0.8457\n",
      "Epoch 4/5\n",
      "\u001b[1m500/500\u001b[0m \u001b[32m━━━━━━━━━━━━━━━━━━━━\u001b[0m\u001b[37m\u001b[0m \u001b[1m1s\u001b[0m 2ms/step - accuracy: 0.8080 - loss: 0.6963\n",
      "Epoch 5/5\n",
      "\u001b[1m500/500\u001b[0m \u001b[32m━━━━━━━━━━━━━━━━━━━━\u001b[0m\u001b[37m\u001b[0m \u001b[1m1s\u001b[0m 2ms/step - accuracy: 0.8243 - loss: 0.6287\n"
     ]
    },
    {
     "data": {
      "text/plain": [
       "<keras.src.callbacks.history.History at 0x1c1acc4ca70>"
      ]
     },
     "execution_count": 17,
     "metadata": {},
     "output_type": "execute_result"
    }
   ],
   "source": [
    "model.fit(x_train, y_train, epochs=5)  # Train the model for 20 epochs\n"
   ]
  },
  {
   "cell_type": "code",
   "execution_count": 18,
   "id": "93c7d5b8-8a29-4269-8981-bb4bfbf41484",
   "metadata": {},
   "outputs": [
    {
     "name": "stdout",
     "output_type": "stream",
     "text": [
      "\u001b[1m125/125\u001b[0m \u001b[32m━━━━━━━━━━━━━━━━━━━━\u001b[0m\u001b[37m\u001b[0m \u001b[1m1s\u001b[0m 3ms/step - accuracy: 0.8444 - loss: 0.5614\n",
      "Accuracy: 83.88%\n"
     ]
    }
   ],
   "source": [
    "loss,accuracy = model.evaluate(x_test, y_test)  # Evaluate accuracy on test data\n",
    "print(f\"Accuracy: {accuracy*100:.2f}%\")  # Print test accuracy percentage\n",
    "\n"
   ]
  },
  {
   "cell_type": "code",
   "execution_count": null,
   "id": "58a3428f-7040-450b-8be9-e052fb6c5216",
   "metadata": {},
   "outputs": [],
   "source": []
  }
 ],
 "metadata": {
  "kernelspec": {
   "display_name": "Python 3 (ipykernel)",
   "language": "python",
   "name": "python3"
  },
  "language_info": {
   "codemirror_mode": {
    "name": "ipython",
    "version": 3
   },
   "file_extension": ".py",
   "mimetype": "text/x-python",
   "name": "python",
   "nbconvert_exporter": "python",
   "pygments_lexer": "ipython3",
   "version": "3.12.7"
  }
 },
 "nbformat": 4,
 "nbformat_minor": 5
}
