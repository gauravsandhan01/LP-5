{
 "cells": [
  {
   "cell_type": "code",
   "execution_count": 1,
   "id": "39175b1d-718e-41e9-90c8-a4cc0dc10dd0",
   "metadata": {},
   "outputs": [],
   "source": [
    "import pandas as pd\n",
    "from sklearn.model_selection import train_test_split\n",
    "from sklearn.feature_extraction.text import TfidfVectorizer\n",
    "from tensorflow.keras.models import Sequential\n",
    "from tensorflow.keras.layers import Dense\n",
    "\n"
   ]
  },
  {
   "cell_type": "code",
   "execution_count": 11,
   "id": "e837d08d-d6cd-4c44-a931-ab050b0875bf",
   "metadata": {},
   "outputs": [],
   "source": [
    "df = pd.read_csv(\"C:/Users/gaura/Desktop/DL/IMDB Dataset.csv\",on_bad_lines='skip',encoding='utf-8')\n",
    "df['sentiment'] = df['sentiment'].map({'positive': 1, 'negative': 0})"
   ]
  },
  {
   "cell_type": "code",
   "execution_count": 12,
   "id": "36ef55a5-1a2c-4a90-a0e2-659280a0b571",
   "metadata": {},
   "outputs": [],
   "source": [
    "X_train, X_test, y_train, y_test = train_test_split(df['review'], df['sentiment'], test_size=0.2)\n",
    "vectorizer = TfidfVectorizer(max_features=5000)\n",
    "X_train = vectorizer.fit_transform(X_train)  # Sparse matrix\n",
    "X_test = vectorizer.transform(X_test)  # Sparse matrix"
   ]
  },
  {
   "cell_type": "code",
   "execution_count": 13,
   "id": "bd56f9fc-42b8-497e-9f83-da831cc558ba",
   "metadata": {},
   "outputs": [
    {
     "name": "stderr",
     "output_type": "stream",
     "text": [
      "C:\\Users\\gaura\\AppData\\Local\\anaconda3\\Lib\\site-packages\\keras\\src\\layers\\core\\dense.py:87: UserWarning: Do not pass an `input_shape`/`input_dim` argument to a layer. When using Sequential models, prefer using an `Input(shape)` object as the first layer in the model instead.\n",
      "  super().__init__(activity_regularizer=activity_regularizer, **kwargs)\n"
     ]
    }
   ],
   "source": [
    "model = Sequential([\n",
    "    Dense(64, activation='relu', input_shape=(X_train.shape[1],)),\n",
    "    Dense(1, activation='sigmoid')\n",
    "])\n"
   ]
  },
  {
   "cell_type": "code",
   "execution_count": 14,
   "id": "cd647f4a-bfc0-44f8-8d39-4f9a6514fad8",
   "metadata": {},
   "outputs": [],
   "source": [
    "model.compile(optimizer='adam', loss='binary_crossentropy', metrics=['accuracy'])\n"
   ]
  },
  {
   "cell_type": "code",
   "execution_count": 15,
   "id": "bd3a049d-735a-4f6e-b7db-785048a0f290",
   "metadata": {},
   "outputs": [
    {
     "name": "stdout",
     "output_type": "stream",
     "text": [
      "Epoch 1/2\n",
      "\u001b[1m1000/1000\u001b[0m \u001b[32m━━━━━━━━━━━━━━━━━━━━\u001b[0m\u001b[37m\u001b[0m \u001b[1m5s\u001b[0m 4ms/step - accuracy: 0.8113 - loss: 0.4402 - val_accuracy: 0.8886 - val_loss: 0.2675\n",
      "Epoch 2/2\n",
      "\u001b[1m1000/1000\u001b[0m \u001b[32m━━━━━━━━━━━━━━━━━━━━\u001b[0m\u001b[37m\u001b[0m \u001b[1m4s\u001b[0m 4ms/step - accuracy: 0.9198 - loss: 0.2099 - val_accuracy: 0.8820 - val_loss: 0.2834\n",
      "\u001b[1m313/313\u001b[0m \u001b[32m━━━━━━━━━━━━━━━━━━━━\u001b[0m\u001b[37m\u001b[0m \u001b[1m1s\u001b[0m 2ms/step - accuracy: 0.8886 - loss: 0.2685\n",
      "Test Accuracy: 0.8892\n"
     ]
    }
   ],
   "source": [
    "model.fit(X_train, y_train, epochs=2, validation_split=0.2)\n",
    "loss, accuracy = model.evaluate(X_test, y_test)\n",
    " # Directly get accuracy from evaluation\n",
    "print(f\"Test Accuracy: {accuracy:.4f}\")\n"
   ]
  },
  {
   "cell_type": "code",
   "execution_count": 16,
   "id": "599ec902-5f09-4a36-b415-cab5403a32b0",
   "metadata": {},
   "outputs": [
    {
     "name": "stdout",
     "output_type": "stream",
     "text": [
      "\u001b[1m1/1\u001b[0m \u001b[32m━━━━━━━━━━━━━━━━━━━━\u001b[0m\u001b[37m\u001b[0m \u001b[1m0s\u001b[0m 206ms/step\n"
     ]
    }
   ],
   "source": [
    "custom_reviews = [\"I loved the movie!\", \"It was boring and terrible.\", \"It was time wasting\", \"Amazing\"]\n",
    "predictions = model.predict(vectorizer.transform(custom_reviews))\n"
   ]
  },
  {
   "cell_type": "code",
   "execution_count": 17,
   "id": "4619545e-314c-42cd-b251-fd4419703047",
   "metadata": {},
   "outputs": [
    {
     "name": "stdout",
     "output_type": "stream",
     "text": [
      "Review: \"I loved the movie!\" → Positive\n",
      "Review: \"It was boring and terrible.\" → Negative\n",
      "Review: \"It was time wasting\" → Negative\n",
      "Review: \"Amazing\" → Positive\n"
     ]
    }
   ],
   "source": [
    "for r, p in zip(custom_reviews, predictions):\n",
    "    sentiment = \"Positive\" if p > 0.5 else \"Negative\"  # Using 'p' as prediction\n",
    "    print(f'Review: \"{r}\" → {sentiment}')"
   ]
  },
  {
   "cell_type": "code",
   "execution_count": null,
   "id": "3b6ec5b9-2d88-4a93-ac18-cf17ed18477f",
   "metadata": {},
   "outputs": [],
   "source": []
  }
 ],
 "metadata": {
  "kernelspec": {
   "display_name": "Python 3 (ipykernel)",
   "language": "python",
   "name": "python3"
  },
  "language_info": {
   "codemirror_mode": {
    "name": "ipython",
    "version": 3
   },
   "file_extension": ".py",
   "mimetype": "text/x-python",
   "name": "python",
   "nbconvert_exporter": "python",
   "pygments_lexer": "ipython3",
   "version": "3.12.7"
  }
 },
 "nbformat": 4,
 "nbformat_minor": 5
}
